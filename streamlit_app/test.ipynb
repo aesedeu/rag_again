{
 "cells": [
  {
   "cell_type": "code",
   "execution_count": 1,
   "metadata": {},
   "outputs": [
    {
     "name": "stderr",
     "output_type": "stream",
     "text": [
      "/Users/aweeu/Desktop/solv_ai/.venv/lib/python3.11/site-packages/langchain_core/_api/deprecation.py:139: LangChainDeprecationWarning: The class `HuggingFaceEmbeddings` was deprecated in LangChain 0.2.2 and will be removed in 0.3.0. An updated version of the class exists in the langchain-huggingface package and should be used instead. To use it run `pip install -U langchain-huggingface` and import as `from langchain_huggingface import HuggingFaceEmbeddings`.\n",
      "  warn_deprecated(\n",
      "/Users/aweeu/Desktop/solv_ai/.venv/lib/python3.11/site-packages/sentence_transformers/cross_encoder/CrossEncoder.py:11: TqdmWarning: IProgress not found. Please update jupyter and ipywidgets. See https://ipywidgets.readthedocs.io/en/stable/user_install.html\n",
      "  from tqdm.autonotebook import tqdm, trange\n",
      "2024-07-26 23:34:59,634 sentence_transformers.SentenceTransformer INFO Use pytorch device_name: mps\n",
      "2024-07-26 23:34:59,635 sentence_transformers.SentenceTransformer INFO Load pretrained SentenceTransformer: intfloat/multilingual-e5-small\n"
     ]
    }
   ],
   "source": [
    "import sys\n",
    "import os\n",
    "sys.path.append(\"..\")\n",
    "from lib.vector_db_setup import get_texts, get_chroma_client, vectorstore_query"
   ]
  },
  {
   "cell_type": "code",
   "execution_count": 17,
   "metadata": {},
   "outputs": [
    {
     "name": "stderr",
     "output_type": "stream",
     "text": [
      "2024-07-26 23:57:36,376 httpx INFO HTTP Request: GET http://localhost:8000/api/v1/tenants/default_tenant \"HTTP/1.1 200 OK\"\n",
      "2024-07-26 23:57:36,379 httpx INFO HTTP Request: GET http://localhost:8000/api/v1/databases/default_database?tenant=default_tenant \"HTTP/1.1 200 OK\"\n",
      "2024-07-26 23:57:36,381 root INFO Подключение к CHROMADB: SUCCESS\n",
      "2024-07-26 23:57:36,381 root INFO Доступны следующие коллекции:\n",
      "2024-07-26 23:57:36,386 httpx INFO HTTP Request: GET http://localhost:8000/api/v1/collections?tenant=default_tenant&database=default_database \"HTTP/1.1 200 OK\"\n",
      "2024-07-26 23:57:36,386 root INFO - 55_55_2024-07-26.pdf\n",
      "2024-07-26 23:57:36,387 root INFO - 3333_3333_2024-07-26.pdf\n",
      "2024-07-26 23:57:36,387 root INFO - 333_333_2024-07-26.pdf\n"
     ]
    }
   ],
   "source": [
    "chroma_client = get_chroma_client()"
   ]
  },
  {
   "cell_type": "code",
   "execution_count": 23,
   "metadata": {},
   "outputs": [
    {
     "name": "stderr",
     "output_type": "stream",
     "text": [
      "2024-07-26 23:58:53,842 httpx INFO HTTP Request: GET http://localhost:8000/api/v1/collections?tenant=default_tenant&database=default_database \"HTTP/1.1 200 OK\"\n",
      "2024-07-26 23:58:53,895 httpx INFO HTTP Request: DELETE http://localhost:8000/api/v1/collections/55_55_2024-07-26.pdf?tenant=default_tenant&database=default_database \"HTTP/1.1 200 OK\"\n",
      "2024-07-26 23:58:53,929 httpx INFO HTTP Request: DELETE http://localhost:8000/api/v1/collections/3333_3333_2024-07-26.pdf?tenant=default_tenant&database=default_database \"HTTP/1.1 200 OK\"\n",
      "2024-07-26 23:58:53,949 httpx INFO HTTP Request: DELETE http://localhost:8000/api/v1/collections/333_333_2024-07-26.pdf?tenant=default_tenant&database=default_database \"HTTP/1.1 200 OK\"\n"
     ]
    }
   ],
   "source": [
    "for collection in chroma_client.list_collections():\n",
    "    chroma_client.delete_collection(collection.name)"
   ]
  },
  {
   "cell_type": "code",
   "execution_count": 14,
   "metadata": {},
   "outputs": [
    {
     "name": "stderr",
     "output_type": "stream",
     "text": [
      "2024-07-26 23:43:35,889 httpx INFO HTTP Request: GET http://localhost:8000/api/v1/collections/iphone?tenant=default_tenant&database=default_database \"HTTP/1.1 200 OK\"\n",
      "2024-07-26 23:43:35,945 httpx INFO HTTP Request: POST http://localhost:8000/api/v1/collections/30e23da9-4b92-4e0e-a865-9e2678e6e022/query \"HTTP/1.1 200 OK\"\n"
     ]
    },
    {
     "data": {
      "text/plain": [
       "'Wwwbosscoderacademycom11\\x0cpractical codebased questionsq 31  write a python function to calculate the mean and variance of a list of numbersansq 32  implement kmeans clustering from scratch in pythonanswwwbosscoderacademycom12\\x0cpractical codebased questionsq 33  write a python function to implement logistic regression using gradient descentanswwwbosscoderacademycom13\\x0cpractical codebased questions. Wwwbosscoderacademycom5\\x0cmedium levelq 15  explain the kmeans clustering algorithmans kmeans is an unsupervised learning algorithm that partitions data into k clusters by minimizing the variance within each cluster it iteratively assigns data points to the nearest centroid and updates centroids based on the mean of the points in each clusterq 16  what is a decision tree and how does it work. Cid143 evaluation evaluate using metrics like precision recall f1 score and confusion matrixo‡cid143 monitoring continuously monitor model performance and update the model as fraud patterns evolvewwwbosscoderacademycom32\\x0ccasebased questionscase 4  sales forecastingquestion a retail company wants to forecast sales for the next quarter how would you approach this taskanswerapproach q data collection gather historical sales data including. '"
      ]
     },
     "execution_count": 14,
     "metadata": {},
     "output_type": "execute_result"
    }
   ],
   "source": [
    "resp = vectorstore_query(\n",
    "    collection=chroma_client.get_collection('iphone'),\n",
    "    source_file_type='pdf',\n",
    "    question='mean squared',\n",
    "    n_results=3\n",
    ")\n",
    "resp"
   ]
  },
  {
   "cell_type": "code",
   "execution_count": 24,
   "metadata": {},
   "outputs": [],
   "source": [
    "# get_texts(\n",
    "#     file_name=\"upload/ML Questions.pdf\",\n",
    "#     collection_name='iphone'\n",
    "# )"
   ]
  },
  {
   "cell_type": "code",
   "execution_count": null,
   "metadata": {},
   "outputs": [],
   "source": []
  }
 ],
 "metadata": {
  "kernelspec": {
   "display_name": ".venv",
   "language": "python",
   "name": "python3"
  },
  "language_info": {
   "codemirror_mode": {
    "name": "ipython",
    "version": 3
   },
   "file_extension": ".py",
   "mimetype": "text/x-python",
   "name": "python",
   "nbconvert_exporter": "python",
   "pygments_lexer": "ipython3",
   "version": "3.11.9"
  }
 },
 "nbformat": 4,
 "nbformat_minor": 2
}
